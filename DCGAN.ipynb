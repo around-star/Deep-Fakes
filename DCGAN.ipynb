{
  "nbformat": 4,
  "nbformat_minor": 0,
  "metadata": {
    "colab": {
      "name": "DeepFake.ipynb",
      "provenance": [],
      "authorship_tag": "ABX9TyOcdJq8z5cYOxOwdvqYQF/P",
      "include_colab_link": true
    },
    "kernelspec": {
      "name": "python3",
      "display_name": "Python 3"
    },
    "accelerator": "GPU"
  },
  "cells": [
    {
      "cell_type": "markdown",
      "metadata": {
        "id": "view-in-github",
        "colab_type": "text"
      },
      "source": [
        "<a href=\"https://colab.research.google.com/github/around-star/Deep-Fakes/blob/master/DeepFake.ipynb\" target=\"_parent\"><img src=\"https://colab.research.google.com/assets/colab-badge.svg\" alt=\"Open In Colab\"/></a>"
      ]
    },
    {
      "cell_type": "markdown",
      "metadata": {
        "id": "vaVuoir5ilEX",
        "colab_type": "text"
      },
      "source": [
        "##DEEP FAKES"
      ]
    },
    {
      "cell_type": "code",
      "metadata": {
        "id": "w4Pn6Hts0iff",
        "colab_type": "code",
        "colab": {}
      },
      "source": [
        "import tensorflow as tf\n",
        "import numpy as np\n",
        "import matplotlib.pyplot as plt\n",
        "from tensorflow.keras.layers import Input, Dense, Conv2D, Flatten, Conv2DTranspose, BatchNormalization, Reshape, LeakyReLU\n",
        "from tensorflow.keras.models import Model, Sequential"
      ],
      "execution_count": 11,
      "outputs": []
    },
    {
      "cell_type": "code",
      "metadata": {
        "id": "J8Up6A0v1ii4",
        "colab_type": "code",
        "colab": {}
      },
      "source": [
        "(x_train, y_train), (_, _) = tf.keras.datasets.mnist.load_data()\n",
        "x = []\n",
        "for i in range(len(x_train)):\n",
        "  if (y_train[i] == 0):\n",
        "    x.append(x_train[i])\n",
        "\n",
        "x = np.stack(x, axis=0)/255"
      ],
      "execution_count": 13,
      "outputs": []
    },
    {
      "cell_type": "code",
      "metadata": {
        "id": "c05taxO0QQK8",
        "colab_type": "code",
        "colab": {
          "base_uri": "https://localhost:8080/",
          "height": 34
        },
        "outputId": "9ce9de30-fd0e-4705-ed5f-7fc6813041e7"
      },
      "source": [
        "x.shape"
      ],
      "execution_count": 14,
      "outputs": [
        {
          "output_type": "execute_result",
          "data": {
            "text/plain": [
              "(5923, 28, 28)"
            ]
          },
          "metadata": {
            "tags": []
          },
          "execution_count": 14
        }
      ]
    },
    {
      "cell_type": "code",
      "metadata": {
        "id": "DM9RAOCP8KfB",
        "colab_type": "code",
        "colab": {
          "base_uri": "https://localhost:8080/",
          "height": 282
        },
        "outputId": "4c56f787-3db2-4bbc-9896-5b6b8db93920"
      },
      "source": [
        "plt.imshow(x[7], cmap='binary')"
      ],
      "execution_count": 15,
      "outputs": [
        {
          "output_type": "execute_result",
          "data": {
            "text/plain": [
              "<matplotlib.image.AxesImage at 0x7fcaa29b49b0>"
            ]
          },
          "metadata": {
            "tags": []
          },
          "execution_count": 15
        },
        {
          "output_type": "display_data",
          "data": {
            "image/png": "[encoded data removed]",
            "text/plain": [
              "<Figure size 432x288 with 1 Axes>"
            ]
          },
          "metadata": {
            "tags": [],
            "needs_background": "light"
          }
        }
      ]
    },
    {
      "cell_type": "markdown",
      "metadata": {
        "id": "YLieI5IUiqyW",
        "colab_type": "text"
      },
      "source": [
        "DISCRIMINATOR"
      ]
    },
    {
      "cell_type": "code",
      "metadata": {
        "id": "i2wJhS_FKYNC",
        "colab_type": "code",
        "colab": {
          "base_uri": "https://localhost:8080/",
          "height": 527
        },
        "outputId": "404758c4-ab97-45fd-d674-44ab08c59ebd"
      },
      "source": [
        "discriminator = Sequential ([\n",
        "                    Conv2D(64, 3, strides=2, input_shape=(28, 28, 1)),\n",
        "                    LeakyReLU(),\n",
        "                    BatchNormalization(),\n",
        "\n",
        "                    Conv2D(128, 5, strides=2),\n",
        "                    LeakyReLU(),\n",
        "                    BatchNormalization(),\n",
        "\n",
        "                    Conv2D(256, 5, strides=2),\n",
        "                    LeakyReLU(),\n",
        "                    BatchNormalization(),\n",
        "\n",
        "                    Flatten(),\n",
        "                    Dense(1, activation='sigmoid')\n",
        "])\n",
        "\n",
        "opt = tf.keras.optimizers.Adam(learning_rate=2e-4, beta_1=0.5)\n",
        "discriminator.compile(loss='binary_crossentropy', optimizer=opt, metrics=['accuracy'])\n",
        "discriminator.summary()"
      ],
      "execution_count": 16,
      "outputs": [
        {
          "output_type": "stream",
          "text": [
            "Model: \"sequential_2\"\n",
            "_________________________________________________________________\n",
            "Layer (type)                 Output Shape              Param #   \n",
            "=================================================================\n",
            "conv2d_3 (Conv2D)            (None, 13, 13, 64)        640       \n",
            "_________________________________________________________________\n",
            "leaky_re_lu_3 (LeakyReLU)    (None, 13, 13, 64)        0         \n",
            "_________________________________________________________________\n",
            "batch_normalization_7 (Batch (None, 13, 13, 64)        256       \n",
            "_________________________________________________________________\n",
            "conv2d_4 (Conv2D)            (None, 5, 5, 128)         204928    \n",
            "_________________________________________________________________\n",
            "leaky_re_lu_4 (LeakyReLU)    (None, 5, 5, 128)         0         \n",
            "_________________________________________________________________\n",
            "batch_normalization_8 (Batch (None, 5, 5, 128)         512       \n",
            "_________________________________________________________________\n",
            "conv2d_5 (Conv2D)            (None, 1, 1, 256)         819456    \n",
            "_________________________________________________________________\n",
            "leaky_re_lu_5 (LeakyReLU)    (None, 1, 1, 256)         0         \n",
            "_________________________________________________________________\n",
            "batch_normalization_9 (Batch (None, 1, 1, 256)         1024      \n",
            "_________________________________________________________________\n",
            "flatten_1 (Flatten)          (None, 256)               0         \n",
            "_________________________________________________________________\n",
            "dense_2 (Dense)              (None, 1)                 257       \n",
            "=================================================================\n",
            "Total params: 1,027,073\n",
            "Trainable params: 1,026,177\n",
            "Non-trainable params: 896\n",
            "_________________________________________________________________\n"
          ],
          "name": "stdout"
        }
      ]
    },
    {
      "cell_type": "markdown",
      "metadata": {
        "id": "v9OnzaDBiuY8",
        "colab_type": "text"
      },
      "source": [
        "GENERATOR"
      ]
    },
    {
      "cell_type": "code",
      "metadata": {
        "id": "gxvQKCwqp2EB",
        "colab_type": "code",
        "colab": {
          "base_uri": "https://localhost:8080/",
          "height": 527
        },
        "outputId": "dd14136d-ab26-469b-c47a-7a026e37584a"
      },
      "source": [
        "generator = Sequential([\n",
        "                  Dense(256, activation='relu', input_shape = (50,)),\n",
        "                  Reshape((1, 1, 256)),\n",
        "\n",
        "                  Conv2DTranspose(256, 5, activation='relu'),\n",
        "                  BatchNormalization(),\n",
        "\n",
        "                  Conv2DTranspose(128, 5, activation='relu'),\n",
        "                  BatchNormalization(),\n",
        "\n",
        "                  Conv2DTranspose(64, 5, strides=2, activation='relu'),\n",
        "                  BatchNormalization(),\n",
        "\n",
        "                  Conv2DTranspose(32, 5, activation='relu'),\n",
        "                  BatchNormalization(),\n",
        "\n",
        "                  Conv2DTranspose(1, 4, activation='sigmoid')\n",
        "\n",
        "])\n",
        "\n",
        "generator.summary()"
      ],
      "execution_count": 17,
      "outputs": [
        {
          "output_type": "stream",
          "text": [
            "Model: \"sequential_3\"\n",
            "_________________________________________________________________\n",
            "Layer (type)                 Output Shape              Param #   \n",
            "=================================================================\n",
            "dense_3 (Dense)              (None, 256)               13056     \n",
            "_________________________________________________________________\n",
            "reshape_1 (Reshape)          (None, 1, 1, 256)         0         \n",
            "_________________________________________________________________\n",
            "conv2d_transpose_5 (Conv2DTr (None, 5, 5, 256)         1638656   \n",
            "_________________________________________________________________\n",
            "batch_normalization_10 (Batc (None, 5, 5, 256)         1024      \n",
            "_________________________________________________________________\n",
            "conv2d_transpose_6 (Conv2DTr (None, 9, 9, 128)         819328    \n",
            "_________________________________________________________________\n",
            "batch_normalization_11 (Batc (None, 9, 9, 128)         512       \n",
            "_________________________________________________________________\n",
            "conv2d_transpose_7 (Conv2DTr (None, 21, 21, 64)        204864    \n",
            "_________________________________________________________________\n",
            "batch_normalization_12 (Batc (None, 21, 21, 64)        256       \n",
            "_________________________________________________________________\n",
            "conv2d_transpose_8 (Conv2DTr (None, 25, 25, 32)        51232     \n",
            "_________________________________________________________________\n",
            "batch_normalization_13 (Batc (None, 25, 25, 32)        128       \n",
            "_________________________________________________________________\n",
            "conv2d_transpose_9 (Conv2DTr (None, 28, 28, 1)         513       \n",
            "=================================================================\n",
            "Total params: 2,729,569\n",
            "Trainable params: 2,728,609\n",
            "Non-trainable params: 960\n",
            "_________________________________________________________________\n"
          ],
          "name": "stdout"
        }
      ]
    },
    {
      "cell_type": "code",
      "metadata": {
        "id": "v57uBLXUIlqj",
        "colab_type": "code",
        "colab": {
          "base_uri": "https://localhost:8080/",
          "height": 282
        },
        "outputId": "0f9301b3-15d3-4577-9ddc-3ffb2281df78"
      },
      "source": [
        "noise = np.random.randn(1,50)\n",
        "gen_image = generator.predict(noise)[0]\n",
        "gen_image = np.reshape(gen_image, (28,28))\n",
        "plt.imshow(gen_image, cmap='binary')"
      ],
      "execution_count": 18,
      "outputs": [
        {
          "output_type": "execute_result",
          "data": {
            "text/plain": [
              "<matplotlib.image.AxesImage at 0x7fcaa25dfef0>"
            ]
          },
          "metadata": {
            "tags": []
          },
          "execution_count": 18
        },
        {
          "output_type": "display_data",
          "data": {
            "image/png": "[encoded data removed]",
            "text/plain": [
              "<Figure size 432x288 with 1 Axes>"
            ]
          },
          "metadata": {
            "tags": [],
            "needs_background": "light"
          }
        }
      ]
    },
    {
      "cell_type": "markdown",
      "metadata": {
        "id": "mjLqScJaixy0",
        "colab_type": "text"
      },
      "source": [
        "GAN"
      ]
    },
    {
      "cell_type": "code",
      "metadata": {
        "id": "tVapTnofKUCE",
        "colab_type": "code",
        "colab": {
          "base_uri": "https://localhost:8080/",
          "height": 255
        },
        "outputId": "350a5d0a-f298-44ab-bdd8-f8f9e88b8cd1"
      },
      "source": [
        "input_layer = Input(shape = (50,))\n",
        "gen_out = generator(input_layer)\n",
        "disc_out = discriminator(gen_out)\n",
        "\n",
        "gan = Model(input_layer, disc_out)\n",
        "\n",
        "discriminator.trainable = False\n",
        "gan.compile(loss='binary_crossentropy', optimizer=opt, metrics=['accuracy'])\n",
        "gan.summary()"
      ],
      "execution_count": 19,
      "outputs": [
        {
          "output_type": "stream",
          "text": [
            "Model: \"model_1\"\n",
            "_________________________________________________________________\n",
            "Layer (type)                 Output Shape              Param #   \n",
            "=================================================================\n",
            "input_2 (InputLayer)         [(None, 50)]              0         \n",
            "_________________________________________________________________\n",
            "sequential_3 (Sequential)    (None, 28, 28, 1)         2729569   \n",
            "_________________________________________________________________\n",
            "sequential_2 (Sequential)    (None, 1)                 1027073   \n",
            "=================================================================\n",
            "Total params: 3,756,642\n",
            "Trainable params: 2,728,609\n",
            "Non-trainable params: 1,028,033\n",
            "_________________________________________________________________\n"
          ],
          "name": "stdout"
        }
      ]
    },
    {
      "cell_type": "code",
      "metadata": {
        "id": "xHRd53WsTivi",
        "colab_type": "code",
        "colab": {
          "base_uri": "https://localhost:8080/",
          "height": 34
        },
        "outputId": "f85183ce-37d6-4785-cf17-5a478740c42d"
      },
      "source": [
        "epochs = 30\n",
        "batch_size = 128\n",
        "steps_per_epoch = int (2 * x.shape[0]/batch_size)\n",
        "print(\"Steps per epoch : \", steps_per_epoch)"
      ],
      "execution_count": 20,
      "outputs": [
        {
          "output_type": "stream",
          "text": [
            "Steps per epoch :  92\n"
          ],
          "name": "stdout"
        }
      ]
    },
    {
      "cell_type": "markdown",
      "metadata": {
        "id": "06oQJ-R7i0yC",
        "colab_type": "text"
      },
      "source": [
        "TRAINING"
      ]
    },
    {
      "cell_type": "code",
      "metadata": {
        "id": "flcgz2L2kmSj",
        "colab_type": "code",
        "colab": {}
      },
      "source": [
        "for e in range(epochs):\n",
        "\n",
        "  for step in range(steps_per_epoch):\n",
        "    X = x[int (batch_size/2)*step : int (batch_size/2)*(step+1)]\n",
        "    X = np.reshape(X, (X.shape[0], 28, 28, 1))\n",
        "\n",
        "    noise = np.random.randn(int (batch_size/2), 50)\n",
        "    gen_examples = generator.predict(noise)\n",
        "\n",
        "    x_batch = np.concatenate([gen_examples,X], axis=0)\n",
        "    y_batch = np.array([0] * int (batch_size/2) + [1] * int (batch_size/2))\n",
        "\n",
        "    indices = np.random.choice(range(batch_size), batch_size, replace = False)\n",
        "\n",
        "    x_batch = x_batch[indices]\n",
        "    y_batch = y_batch[indices]\n",
        "\n",
        "    discriminator.trainable = True\n",
        "    loss = discriminator.train_on_batch(x_batch, y_batch)\n",
        "    \n",
        "    discriminator.trainable = False\n",
        "    loss2 = gan.train_on_batch(noise, np.ones((int (batch_size/2), 1)))\n",
        "    \n"
      ],
      "execution_count": 21,
      "outputs": []
    },
    {
      "cell_type": "code",
      "metadata": {
        "id": "S-8sxhCaOC2G",
        "colab_type": "code",
        "colab": {
          "base_uri": "https://localhost:8080/",
          "height": 282
        },
        "outputId": "1f84d065-67a2-4d7d-90da-94c05bb82933"
      },
      "source": [
        "noise = np.random.randn(1,50)\n",
        "gen_image = generator.predict(noise)[0]\n",
        "plt.imshow(np.reshape(gen_image, (28, 28)), cmap='binary')"
      ],
      "execution_count": 24,
      "outputs": [
        {
          "output_type": "execute_result",
          "data": {
            "text/plain": [
              "<matplotlib.image.AxesImage at 0x7fcaa208ecf8>"
            ]
          },
          "metadata": {
            "tags": []
          },
          "execution_count": 24
        },
        {
          "output_type": "display_data",
          "data": {
            "image/png": "[encoded data removed]",
            "text/plain": [
              "<Figure size 432x288 with 1 Axes>"
            ]
          },
          "metadata": {
            "tags": [],
            "needs_background": "light"
          }
        }
      ]
    },
    {
      "cell_type": "code",
      "metadata": {
        "id": "FJDLAKZ9khgo",
        "colab_type": "code",
        "colab": {}
      },
      "source": [
        ""
      ],
      "execution_count": null,
      "outputs": []
    }
  ]
}
